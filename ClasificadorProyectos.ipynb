{
 "cells": [
  {
   "cell_type": "code",
   "execution_count": 1,
   "id": "b7c911ed",
   "metadata": {},
   "outputs": [
    {
     "data": {
      "text/html": [
       "<pre style=\"white-space:pre;overflow-x:auto;line-height:normal;font-family:Menlo,'DejaVu Sans Mono',consolas,'Courier New',monospace\"><span style=\"color: #008000; text-decoration-color: #008000; font-weight: bold\">Seleccione la opción de asociación:</span>\n",
       "</pre>\n"
      ],
      "text/plain": [
       "\u001b[1;32mSeleccione la opción de asociación:\u001b[0m\n"
      ]
     },
     "metadata": {},
     "output_type": "display_data"
    },
    {
     "data": {
      "text/html": [
       "<pre style=\"white-space:pre;overflow-x:auto;line-height:normal;font-family:Menlo,'DejaVu Sans Mono',consolas,'Courier New',monospace\"><span style=\"color: #008080; text-decoration-color: #008080; font-weight: bold\">1</span>. Asociar subsectores de CAD\n",
       "</pre>\n"
      ],
      "text/plain": [
       "\u001b[1;36m1\u001b[0m. Asociar subsectores de CAD\n"
      ]
     },
     "metadata": {},
     "output_type": "display_data"
    },
    {
     "data": {
      "text/html": [
       "<pre style=\"white-space:pre;overflow-x:auto;line-height:normal;font-family:Menlo,'DejaVu Sans Mono',consolas,'Courier New',monospace\"><span style=\"color: #008080; text-decoration-color: #008080; font-weight: bold\">2</span>. Asociar objetivos ODS\n",
       "</pre>\n"
      ],
      "text/plain": [
       "\u001b[1;36m2\u001b[0m. Asociar objetivos ODS\n"
      ]
     },
     "metadata": {},
     "output_type": "display_data"
    },
    {
     "name": "stdout",
     "output_type": "stream",
     "text": [
      "Ingrese el número de opción (1 o 2): 1\n",
      "Ingresa el nombre del proyecto o descripción corta: Fortalecer la unidad neonatal de SES HUC para mejorar la atención integral del recién nacido con múltiples patologías, utilizando equipos que garantizan la termorregulación y monitoreo de estos pacientes\n"
     ]
    },
    {
     "data": {
      "text/html": [
       "<pre style=\"white-space:pre;overflow-x:auto;line-height:normal;font-family:Menlo,'DejaVu Sans Mono',consolas,'Courier New',monospace\"><span style=\"color: #000080; text-decoration-color: #000080; font-weight: bold\">Sectores asociados con mayor coincidencia:</span>\n",
       "</pre>\n"
      ],
      "text/plain": [
       "\u001b[1;34mSectores asociados con mayor coincidencia:\u001b[0m\n"
      ]
     },
     "metadata": {},
     "output_type": "display_data"
    },
    {
     "data": {
      "text/html": [
       "<pre style=\"white-space:pre;overflow-x:auto;line-height:normal;font-family:Menlo,'DejaVu Sans Mono',consolas,'Courier New',monospace\">AGRICULTURA: <span style=\"color: #008080; text-decoration-color: #008080; font-weight: bold\">2</span> coincidencias\n",
       "</pre>\n"
      ],
      "text/plain": [
       "AGRICULTURA: \u001b[1;36m2\u001b[0m coincidencias\n"
      ]
     },
     "metadata": {},
     "output_type": "display_data"
    },
    {
     "data": {
      "text/html": [
       "<pre style=\"white-space:pre;overflow-x:auto;line-height:normal;font-family:Menlo,'DejaVu Sans Mono',consolas,'Courier New',monospace\">EDUCACIÓN: <span style=\"color: #008080; text-decoration-color: #008080; font-weight: bold\">1</span> coincidencias\n",
       "</pre>\n"
      ],
      "text/plain": [
       "EDUCACIÓN: \u001b[1;36m1\u001b[0m coincidencias\n"
      ]
     },
     "metadata": {},
     "output_type": "display_data"
    },
    {
     "data": {
      "text/html": [
       "<pre style=\"white-space:pre;overflow-x:auto;line-height:normal;font-family:Menlo,'DejaVu Sans Mono',consolas,'Courier New',monospace\">PROGRAMAS - POLÍTICAS SOBRE POBLACIÓN Y SALUD REPRODUCTIVA: <span style=\"color: #008080; text-decoration-color: #008080; font-weight: bold\">1</span> coincidencias\n",
       "</pre>\n"
      ],
      "text/plain": [
       "PROGRAMAS - POLÍTICAS SOBRE POBLACIÓN Y SALUD REPRODUCTIVA: \u001b[1;36m1\u001b[0m coincidencias\n"
      ]
     },
     "metadata": {},
     "output_type": "display_data"
    },
    {
     "data": {
      "text/html": [
       "<pre style=\"white-space:pre;overflow-x:auto;line-height:normal;font-family:Menlo,'DejaVu Sans Mono',consolas,'Courier New',monospace\"><span style=\"color: #000080; text-decoration-color: #000080; font-weight: bold\">Subcategorías asociadas con mayor coincidencia:</span>\n",
       "</pre>\n"
      ],
      "text/plain": [
       "\u001b[1;34mSubcategorías asociadas con mayor coincidencia:\u001b[0m\n"
      ]
     },
     "metadata": {},
     "output_type": "display_data"
    },
    {
     "data": {
      "text/html": [
       "<pre style=\"white-space:pre;overflow-x:auto;line-height:normal;font-family:Menlo,'DejaVu Sans Mono',consolas,'Courier New',monospace\">Insumos agrícolas: <span style=\"color: #008080; text-decoration-color: #008080; font-weight: bold\">1</span> coincidencias\n",
       "</pre>\n"
      ],
      "text/plain": [
       "Insumos agrícolas: \u001b[1;36m1\u001b[0m coincidencias\n"
      ]
     },
     "metadata": {},
     "output_type": "display_data"
    },
    {
     "data": {
      "text/html": [
       "<pre style=\"white-space:pre;overflow-x:auto;line-height:normal;font-family:Menlo,'DejaVu Sans Mono',consolas,'Courier New',monospace\">Protección plantas y poscosecha, y lucha contra plagas: <span style=\"color: #008080; text-decoration-color: #008080; font-weight: bold\">1</span> coincidencias\n",
       "</pre>\n"
      ],
      "text/plain": [
       "Protección plantas y poscosecha, y lucha contra plagas: \u001b[1;36m1\u001b[0m coincidencias\n"
      ]
     },
     "metadata": {},
     "output_type": "display_data"
    },
    {
     "data": {
      "text/html": [
       "<pre style=\"white-space:pre;overflow-x:auto;line-height:normal;font-family:Menlo,'DejaVu Sans Mono',consolas,'Courier New',monospace\"><span style=\"color: #008000; text-decoration-color: #008000\">\"Educación, nivel no especificado\"</span> - Servicios e instalaciones educativos y formación: <span style=\"color: #008080; text-decoration-color: #008080; font-weight: bold\">1</span> coincidencias\n",
       "</pre>\n"
      ],
      "text/plain": [
       "\u001b[32m\"Educación, nivel no especificado\"\u001b[0m - Servicios e instalaciones educativos y formación: \u001b[1;36m1\u001b[0m coincidencias\n"
      ]
     },
     "metadata": {},
     "output_type": "display_data"
    }
   ],
   "source": [
    "# Importar las bibliotecas necesarias\n",
    "import pandas as pd\n",
    "from rich.console import Console\n",
    "\n",
    "# Inicializar el objeto Console para usar rich\n",
    "console = Console()\n",
    "\n",
    "# Cargar los datos desde un archivo Excel con múltiples hojas\n",
    "archivo = 'Base_Datos_Marcos_Estrategicos2.xlsx'\n",
    "df_subsectores = pd.read_excel(archivo, sheet_name='CAD_PALABRAS')  # Hoja con subsectores\n",
    "df_ods = pd.read_excel(archivo, sheet_name='ODS_PALABRA')  # Hoja con ODSS\n",
    "\n",
    "# Asegurarse de que la columna 'PALABRAS CLAVE' contenga solo cadenas\n",
    "df_subsectores['PALABRAS CLAVE'] = df_subsectores['PALABRAS CLAVE'].apply(lambda x: x if isinstance(x, str) else '')\n",
    "df_ods['PALABRAS CLAVE'] = df_ods['PALABRAS CLAVE'].apply(lambda x: x if isinstance(x, str) else '')\n",
    "\n",
    "# Función para asociar sectores y subcategorías\n",
    "def asociar_sectores_y_subcategorias(descripcion):\n",
    "    descripcion_lower = descripcion.lower()\n",
    "    conteo_coincidencias = {}\n",
    "    conteo_subcategorias = {}\n",
    "\n",
    "    for index, row in df_subsectores.iterrows():\n",
    "        if isinstance(row['PALABRAS CLAVE'], str):\n",
    "            palabras_clave = row['PALABRAS CLAVE'].lower().split(', ')\n",
    "            coincidencias = sum(1 for palabra in palabras_clave if palabra in descripcion_lower)\n",
    "\n",
    "            if coincidencias > 0:\n",
    "                sector = row['SECTOR CAD']  # Asegúrate de que este nombre sea correcto\n",
    "                conteo_coincidencias[sector] = conteo_coincidencias.get(sector, 0) + coincidencias\n",
    "                \n",
    "                subcategoria = row['SUBSECTOR CRS']  # Asegúrate de que este nombre sea correcto\n",
    "                conteo_subcategorias[subcategoria] = conteo_subcategorias.get(subcategoria, 0) + coincidencias\n",
    "\n",
    "    sectores_ordenados = sorted(conteo_coincidencias.items(), key=lambda item: item[1], reverse=True)\n",
    "    subcategorias_ordenadas = sorted(conteo_subcategorias.items(), key=lambda item: item[1], reverse=True)\n",
    "\n",
    "    return sectores_ordenados[:3], subcategorias_ordenadas[:3]\n",
    "\n",
    "# Función para asociar ODS\n",
    "def asociar_ods(descripcion):\n",
    "    descripcion_lower = descripcion.lower()\n",
    "    conteo_coincidencias = {}\n",
    "    \n",
    "    for index, row in df_ods.iterrows():\n",
    "        if isinstance(row['PALABRAS CLAVE'], str):\n",
    "            palabras_clave = row['PALABRAS CLAVE'].lower().split(', ')\n",
    "            coincidencias = sum(1 for palabra in palabras_clave if palabra in descripcion_lower)\n",
    "            \n",
    "            if coincidencias > 0:\n",
    "                objetivo = row['ODS']  # Asegúrate de que este nombre sea correcto\n",
    "                conteo_coincidencias[objetivo] = conteo_coincidencias.get(objetivo, 0) + coincidencias\n",
    "\n",
    "    objetivos_ordenados = sorted(conteo_coincidencias.items(), key=lambda item: item[1], reverse=True)\n",
    "    return objetivos_ordenados[:3]\n",
    "\n",
    "# Menú interactivo\n",
    "def menu():\n",
    "    console.print(\"Seleccione la opción de asociación:\", style=\"bold green\")\n",
    "    console.print(\"1. Asociar subsectores de CAD\")\n",
    "    console.print(\"2. Asociar objetivos ODS\")\n",
    "    \n",
    "    opcion = input(\"Ingrese el número de opción (1 o 2): \")\n",
    "    \n",
    "    if opcion in ['1', '2']:\n",
    "        descripcion_proyecto = input(\"Ingresa el nombre del proyecto o descripción corta: \")\n",
    "        \n",
    "        if opcion == '1':\n",
    "            sectores_asociados, subcategorias_asociadas = asociar_sectores_y_subcategorias(descripcion_proyecto)\n",
    "            if sectores_asociados:\n",
    "                console.print(\"[bold blue]Sectores asociados con mayor coincidencia:[/bold blue]\")\n",
    "                for sector, coincidencias in sectores_asociados:\n",
    "                    console.print(f\"{sector}: {coincidencias} coincidencias\")\n",
    "            else:\n",
    "                console.print(\"No se encontraron sectores asociados.\")\n",
    "\n",
    "            if subcategorias_asociadas:\n",
    "                console.print(\"[bold blue]Subcategorías asociadas con mayor coincidencia:[/bold blue]\")\n",
    "                for subcategoria, coincidencias in subcategorias_asociadas:\n",
    "                    console.print(f\"{subcategoria}: {coincidencias} coincidencias\")\n",
    "            else:\n",
    "                console.print(\"No se encontraron subcategorías asociadas.\")\n",
    "        \n",
    "        elif opcion == '2':\n",
    "            objetivos_asociados = asociar_ods(descripcion_proyecto)\n",
    "            if objetivos_asociados:\n",
    "                console.print(\"[bold blue]Objetivos ODS asociados con mayor coincidencia:[/bold blue]\")\n",
    "                for objetivo, coincidencias in objetivos_asociados:\n",
    "                    console.print(f\"{objetivo}: {coincidencias} coincidencias\")\n",
    "            else:\n",
    "                console.print(\"No se encontraron objetivos ODS asociados.\")\n",
    "    else:\n",
    "        console.print(\"Opción no válida.\")\n",
    "\n",
    "# Ejecutar el menú\n",
    "if __name__ == \"__main__\":\n",
    "    menu()\n"
   ]
  },
  {
   "cell_type": "code",
   "execution_count": null,
   "id": "fa6831cb",
   "metadata": {},
   "outputs": [],
   "source": []
  }
 ],
 "metadata": {
  "kernelspec": {
   "display_name": "Python 3 (ipykernel)",
   "language": "python",
   "name": "python3"
  },
  "language_info": {
   "codemirror_mode": {
    "name": "ipython",
    "version": 3
   },
   "file_extension": ".py",
   "mimetype": "text/x-python",
   "name": "python",
   "nbconvert_exporter": "python",
   "pygments_lexer": "ipython3",
   "version": "3.10.9"
  }
 },
 "nbformat": 4,
 "nbformat_minor": 5
}
